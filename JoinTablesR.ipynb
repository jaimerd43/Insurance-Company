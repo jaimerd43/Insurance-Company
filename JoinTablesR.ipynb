{
 "cells": [
  {
   "cell_type": "code",
   "execution_count": 2,
   "metadata": {
    "vscode": {
     "languageId": "r"
    }
   },
   "outputs": [],
   "source": [
    "library(tidyverse)\n",
    "library(readxl)\n",
    "library(ggplot2)"
   ]
  },
  {
   "cell_type": "markdown",
   "metadata": {},
   "source": [
    "Open the data and summarize it"
   ]
  },
  {
   "cell_type": "code",
   "execution_count": 4,
   "metadata": {
    "vscode": {
     "languageId": "r"
    }
   },
   "outputs": [
    {
     "data": {
      "text/plain": [
       "   CustomerID      Title            GivenName         MiddleInitial     \n",
       " Min.   :   1   Length:4085        Length:4085        Length:4085       \n",
       " 1st Qu.:1294   Class :character   Class :character   Class :character  \n",
       " Median :2591   Mode  :character   Mode  :character   Mode  :character  \n",
       " Mean   :2601                                                           \n",
       " 3rd Qu.:3905                                                           \n",
       " Max.   :5200                                                           \n",
       "                                                                        \n",
       "   Surname            CardType          Occupation           Gender         \n",
       " Length:4085        Length:4085        Length:4085        Length:4085       \n",
       " Class :character   Class :character   Class :character   Class :character  \n",
       " Mode  :character   Mode  :character   Mode  :character   Mode  :character  \n",
       "                                                                            \n",
       "                                                                            \n",
       "                                                                            \n",
       "                                                                            \n",
       "      Age           Location          ComChannel           MotorID    \n",
       " Min.   :-44.00   Length:4085        Length:4085        Min.   :1004  \n",
       " 1st Qu.: 22.00   Class :character   Class :character   1st Qu.:3202  \n",
       " Median : 46.00   Mode  :character   Mode  :character   Median :5593  \n",
       " Mean   : 41.38                                         Mean   :5533  \n",
       " 3rd Qu.: 50.00                                         3rd Qu.:7773  \n",
       " Max.   :210.00                                         Max.   :9999  \n",
       "                                                        NA's   :728   \n",
       "    HealthID       TravelID   \n",
       " Min.   :1001   Min.   :1001  \n",
       " 1st Qu.:3222   1st Qu.:3274  \n",
       " Median :5498   Median :5489  \n",
       " Mean   :5509   Mean   :5535  \n",
       " 3rd Qu.:7759   3rd Qu.:7872  \n",
       " Max.   :9999   Max.   :9996  \n",
       " NA's   :1547   NA's   :1980  "
      ]
     },
     "metadata": {},
     "output_type": "display_data"
    },
    {
     "data": {
      "text/plain": [
       "    MotorID      PolicyStart                   \n",
       " Min.   :1004   Min.   :2019-01-01 00:00:00.0  \n",
       " 1st Qu.:3200   1st Qu.:2019-04-06 00:00:00.0  \n",
       " Median :5592   Median :2019-07-04 00:00:00.0  \n",
       " Mean   :5530   Mean   :2019-07-04 14:18:36.0  \n",
       " 3rd Qu.:7772   3rd Qu.:2019-10-04 00:00:00.0  \n",
       " Max.   :9999   Max.   :2019-12-30 00:00:00.0  \n",
       "                                               \n",
       "   PolicyEnd                       MotorType           veh_value     \n",
       " Min.   :2020-01-01 00:00:00.00   Length:3361        Min.   : 0.000  \n",
       " 1st Qu.:2020-04-06 00:00:00.00   Class :character   1st Qu.: 1.030  \n",
       " Median :2020-07-04 00:00:00.00   Mode  :character   Median : 1.510  \n",
       " Mean   :2020-07-04 10:42:39.95                      Mean   : 1.811  \n",
       " 3rd Qu.:2020-10-04 00:00:00.00                      3rd Qu.: 2.220  \n",
       " Max.   :2020-12-30 00:00:00.00                      Max.   :16.690  \n",
       "                                                                     \n",
       "    Exposure             clm            Numclaims          v_body         \n",
       " Min.   :0.002738   Min.   :0.00000   Min.   :0.00000   Length:3361       \n",
       " 1st Qu.:0.216290   1st Qu.:0.00000   1st Qu.:0.00000   Class :character  \n",
       " Median :0.484600   Median :0.00000   Median :0.00000   Mode  :character  \n",
       " Mean   :0.478145   Mean   :0.06367   Mean   :0.06813                     \n",
       " 3rd Qu.:0.772074   3rd Qu.:0.00000   3rd Qu.:0.00000                     \n",
       " Max.   :0.999316   Max.   :1.00000   Max.   :3.00000                     \n",
       "                                                                          \n",
       "     v_age       LastClaimDate                  \n",
       " Min.   :1.000   Min.   :2019-02-02 00:00:00.0  \n",
       " 1st Qu.:2.000   1st Qu.:2019-09-28 00:00:00.0  \n",
       " Median :3.000   Median :2019-12-25 00:00:00.0  \n",
       " Mean   :2.659   Mean   :2019-12-25 14:21:18.5  \n",
       " 3rd Qu.:4.000   3rd Qu.:2020-04-04 00:00:00.0  \n",
       " Max.   :4.000   Max.   :2020-12-06 00:00:00.0  \n",
       "                 NA's   :3147                   "
      ]
     },
     "metadata": {},
     "output_type": "display_data"
    },
    {
     "data": {
      "text/plain": [
       "    HealthID     policyStart                    \n",
       " Min.   :1001   Min.   :2019-01-01 00:00:00.00  \n",
       " 1st Qu.:3222   1st Qu.:2019-03-29 00:00:00.00  \n",
       " Median :5498   Median :2019-07-02 00:00:00.00  \n",
       " Mean   :5510   Mean   :2019-06-30 19:30:27.60  \n",
       " 3rd Qu.:7762   3rd Qu.:2019-09-28 12:00:00.00  \n",
       " Max.   :9999   Max.   :2019-12-31 00:00:00.00  \n",
       "   policyEnd                       HealthType        HealthDependentsAdults\n",
       " Min.   :2020-01-01 00:00:00.00   Length:2543        Min.   :0.0000        \n",
       " 1st Qu.:2020-03-29 00:00:00.00   Class :character   1st Qu.:0.0000        \n",
       " Median :2020-07-02 00:00:00.00   Mode  :character   Median :1.0000        \n",
       " Mean   :2020-06-30 15:28:40.01                      Mean   :0.8164        \n",
       " 3rd Qu.:2020-09-28 12:00:00.00                      3rd Qu.:1.0000        \n",
       " Max.   :2020-12-31 00:00:00.00                      Max.   :2.0000        \n",
       " DependentsKids  \n",
       " Min.   : 0.000  \n",
       " 1st Qu.: 0.000  \n",
       " Median : 2.000  \n",
       " Mean   : 1.763  \n",
       " 3rd Qu.: 3.000  \n",
       " Max.   :40.000  "
      ]
     },
     "metadata": {},
     "output_type": "display_data"
    },
    {
     "data": {
      "text/plain": [
       "    TravelID     policyStart                    \n",
       " Min.   :1001   Min.   :2020-01-01 00:00:00.00  \n",
       " 1st Qu.:3278   1st Qu.:2020-07-09 00:00:00.00  \n",
       " Median :5490   Median :2020-07-29 00:00:00.00  \n",
       " Mean   :5535   Mean   :2020-07-21 21:28:20.95  \n",
       " 3rd Qu.:7870   3rd Qu.:2020-08-19 00:00:00.00  \n",
       " Max.   :9996   Max.   :2020-12-31 00:00:00.00  \n",
       "   PolicyEnd                       TravelType       \n",
       " Min.   :2020-01-04 00:00:00.00   Length:2108       \n",
       " 1st Qu.:2020-07-19 18:00:00.00   Class :character  \n",
       " Median :2020-08-10 00:00:00.00   Mode  :character  \n",
       " Mean   :2020-07-31 22:51:00.33                     \n",
       " 3rd Qu.:2020-08-31 00:00:00.00                     \n",
       " Max.   :2021-01-09 00:00:00.00                     "
      ]
     },
     "metadata": {},
     "output_type": "display_data"
    }
   ],
   "source": [
    "data1 <- read_excel(\"/Users/jaimerd/Desktop/portfolio/Insurance-Company-/data/Data 1_Customer.xlsx\")\n",
    "data2 <- read_excel(\"/Users/jaimerd/Desktop/portfolio/Insurance-Company-/data/Data 2_Motor Policies.xlsx\")\n",
    "data3 <- read_excel(\"/Users/jaimerd/Desktop/portfolio/Insurance-Company-/data/Data 3_Health Policies.xlsx\")\n",
    "data4 <- read_excel(\"/Users/jaimerd/Desktop/portfolio/Insurance-Company-/data/Data 4_Travel Policies.xlsx\")\n",
    "\n",
    "summary(data1)\n",
    "summary(data2)\n",
    "summary(data3)\n",
    "summary(data4)"
   ]
  },
  {
   "cell_type": "markdown",
   "metadata": {},
   "source": [
    "Join the tables to the \"Customer\" table using \"Left Join\" "
   ]
  },
  {
   "cell_type": "code",
   "execution_count": 5,
   "metadata": {
    "vscode": {
     "languageId": "r"
    }
   },
   "outputs": [
    {
     "data": {
      "text/plain": [
       "   CustomerID      Title            GivenName         MiddleInitial     \n",
       " Min.   :   1   Length:4085        Length:4085        Length:4085       \n",
       " 1st Qu.:1294   Class :character   Class :character   Class :character  \n",
       " Median :2591   Mode  :character   Mode  :character   Mode  :character  \n",
       " Mean   :2601                                                           \n",
       " 3rd Qu.:3905                                                           \n",
       " Max.   :5200                                                           \n",
       "                                                                        \n",
       "   Surname            CardType          Occupation           Gender         \n",
       " Length:4085        Length:4085        Length:4085        Length:4085       \n",
       " Class :character   Class :character   Class :character   Class :character  \n",
       " Mode  :character   Mode  :character   Mode  :character   Mode  :character  \n",
       "                                                                            \n",
       "                                                                            \n",
       "                                                                            \n",
       "                                                                            \n",
       "      Age           Location          ComChannel           MotorID    \n",
       " Min.   :-44.00   Length:4085        Length:4085        Min.   :1004  \n",
       " 1st Qu.: 22.00   Class :character   Class :character   1st Qu.:3202  \n",
       " Median : 46.00   Mode  :character   Mode  :character   Median :5593  \n",
       " Mean   : 41.38                                         Mean   :5533  \n",
       " 3rd Qu.: 50.00                                         3rd Qu.:7773  \n",
       " Max.   :210.00                                         Max.   :9999  \n",
       "                                                        NA's   :728   \n",
       "    HealthID       TravelID     PolicyStart                    \n",
       " Min.   :1001   Min.   :1001   Min.   :2019-01-01 00:00:00.00  \n",
       " 1st Qu.:3222   1st Qu.:3274   1st Qu.:2019-04-06 00:00:00.00  \n",
       " Median :5498   Median :5489   Median :2019-07-04 00:00:00.00  \n",
       " Mean   :5509   Mean   :5535   Mean   :2019-07-04 14:48:47.60  \n",
       " 3rd Qu.:7759   3rd Qu.:7872   3rd Qu.:2019-10-04 00:00:00.00  \n",
       " Max.   :9999   Max.   :9996   Max.   :2019-12-30 00:00:00.00  \n",
       " NA's   :1547   NA's   :1980   NA's   :728                     \n",
       "  PolicyEnd.x                      MotorType           veh_value     \n",
       " Min.   :2020-01-01 00:00:00.00   Length:4085        Min.   : 0.000  \n",
       " 1st Qu.:2020-04-06 00:00:00.00   Class :character   1st Qu.: 1.030  \n",
       " Median :2020-07-04 00:00:00.00   Mode  :character   Median : 1.510  \n",
       " Mean   :2020-07-04 11:12:36.02                      Mean   : 1.812  \n",
       " 3rd Qu.:2020-10-04 00:00:00.00                      3rd Qu.: 2.220  \n",
       " Max.   :2020-12-30 00:00:00.00                      Max.   :16.690  \n",
       " NA's   :728                                         NA's   :728     \n",
       "    Exposure           clm           Numclaims         v_body         \n",
       " Min.   :0.0027   Min.   :0.0000   Min.   :0.0000   Length:4085       \n",
       " 1st Qu.:0.2163   1st Qu.:0.0000   1st Qu.:0.0000   Class :character  \n",
       " Median :0.4846   Median :0.0000   Median :0.0000   Mode  :character  \n",
       " Mean   :0.4780   Mean   :0.0637   Mean   :0.0682                     \n",
       " 3rd Qu.:0.7721   3rd Qu.:0.0000   3rd Qu.:0.0000                     \n",
       " Max.   :0.9993   Max.   :1.0000   Max.   :3.0000                     \n",
       " NA's   :728      NA's   :728      NA's   :728                        \n",
       "     v_age       LastClaimDate                  \n",
       " Min.   :1.000   Min.   :2019-02-02 00:00:00.0  \n",
       " 1st Qu.:2.000   1st Qu.:2019-09-28 00:00:00.0  \n",
       " Median :3.000   Median :2019-12-25 00:00:00.0  \n",
       " Mean   :2.659   Mean   :2019-12-25 14:21:18.5  \n",
       " 3rd Qu.:4.000   3rd Qu.:2020-04-04 00:00:00.0  \n",
       " Max.   :4.000   Max.   :2020-12-06 00:00:00.0  \n",
       " NA's   :728     NA's   :3871                   \n",
       " policyStart.x                      policyEnd                     \n",
       " Min.   :2019-01-01 00:00:00.00   Min.   :2020-01-01 00:00:00.00  \n",
       " 1st Qu.:2019-03-29 00:00:00.00   1st Qu.:2020-03-29 00:00:00.00  \n",
       " Median :2019-07-02 00:00:00.00   Median :2020-07-02 00:00:00.00  \n",
       " Mean   :2019-06-30 18:54:11.05   Mean   :2020-06-30 14:51:54.89  \n",
       " 3rd Qu.:2019-09-28 18:00:00.00   3rd Qu.:2020-09-28 18:00:00.00  \n",
       " Max.   :2019-12-31 00:00:00.00   Max.   :2020-12-31 00:00:00.00  \n",
       " NA's   :1547                     NA's   :1547                    \n",
       "  HealthType        HealthDependentsAdults DependentsKids  \n",
       " Length:4085        Min.   :0.0000         Min.   : 0.000  \n",
       " Class :character   1st Qu.:0.0000         1st Qu.: 0.000  \n",
       " Mode  :character   Median :1.0000         Median : 2.000  \n",
       "                    Mean   :0.8164         Mean   : 1.764  \n",
       "                    3rd Qu.:1.0000         3rd Qu.: 3.000  \n",
       "                    Max.   :2.0000         Max.   :40.000  \n",
       "                    NA's   :1547           NA's   :1547    \n",
       " policyStart.y                     PolicyEnd.y                    \n",
       " Min.   :2020-01-01 00:00:00.00   Min.   :2020-01-04 00:00:00.00  \n",
       " 1st Qu.:2020-07-09 00:00:00.00   1st Qu.:2020-07-19 00:00:00.00  \n",
       " Median :2020-07-29 00:00:00.00   Median :2020-08-10 00:00:00.00  \n",
       " Mean   :2020-07-21 20:52:33.63   Mean   :2020-07-31 22:07:07.54  \n",
       " 3rd Qu.:2020-08-19 00:00:00.00   3rd Qu.:2020-08-31 00:00:00.00  \n",
       " Max.   :2020-12-31 00:00:00.00   Max.   :2021-01-09 00:00:00.00  \n",
       " NA's   :1980                     NA's   :1980                    \n",
       "  TravelType       \n",
       " Length:4085       \n",
       " Class :character  \n",
       " Mode  :character  \n",
       "                   \n",
       "                   \n",
       "                   \n",
       "                   "
      ]
     },
     "metadata": {},
     "output_type": "display_data"
    }
   ],
   "source": [
    "ABT <- data1 %>%\n",
    "  distinct() %>%\n",
    "  left_join(distinct(data2), by = \"MotorID\") %>%\n",
    "  left_join(distinct(data3), by = \"HealthID\") %>%\n",
    "  left_join(distinct(data4), by = \"TravelID\")\n",
    "\n",
    "summary(ABT)"
   ]
  },
  {
   "cell_type": "markdown",
   "metadata": {},
   "source": [
    "DATA CLEANING AND FEATURE ENGINEERING"
   ]
  },
  {
   "cell_type": "code",
   "execution_count": 6,
   "metadata": {
    "vscode": {
     "languageId": "r"
    }
   },
   "outputs": [],
   "source": [
    "ABT <- ABT %>% mutate_if(is.character,as.factor)"
   ]
  }
 ],
 "metadata": {
  "kernelspec": {
   "display_name": "R",
   "language": "R",
   "name": "ir"
  },
  "language_info": {
   "codemirror_mode": "r",
   "file_extension": ".r",
   "mimetype": "text/x-r-source",
   "name": "R",
   "pygments_lexer": "r",
   "version": "4.3.1"
  }
 },
 "nbformat": 4,
 "nbformat_minor": 2
}
